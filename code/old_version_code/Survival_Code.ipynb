{
 "cells": [
  {
   "cell_type": "code",
   "execution_count": 3,
   "metadata": {},
   "outputs": [],
   "source": [
    "\n",
    "import matplotlib\n",
    "matplotlib.use('TkAgg')\n",
    "from pylab import *\n",
    "from matplotlib.animation import FuncAnimation"
   ]
  },
  {
   "cell_type": "code",
   "execution_count": 9,
   "metadata": {},
   "outputs": [],
   "source": [
    "n=100 \n",
    "p=0.1\n",
    "fig = plt.figure()\n"
   ]
  },
  {
   "cell_type": "code",
   "execution_count": 10,
   "metadata": {},
   "outputs": [],
   "source": [
    "def initialize():\n",
    "    global config, nextconfig\n",
    "    config= zeros([n,n])\n",
    "    for x in xrange(n):\n",
    "        for y in xrange(n):\n",
    "            config[x,y]= 1 if random()<p else 0\n",
    "    nextconfig= zeros([n,n])\n",
    "            "
   ]
  },
  {
   "cell_type": "code",
   "execution_count": 11,
   "metadata": {},
   "outputs": [],
   "source": [
    "def observer():\n",
    "    global config, nextconfig\n",
    "    cla()\n",
    "    imshow(config, vmin=0, vmax=1, cmap=cm.binary)"
   ]
  },
  {
   "cell_type": "code",
   "execution_count": 12,
   "metadata": {},
   "outputs": [],
   "source": [
    "def update():\n",
    "    global config, nextconfig\n",
    "    for x in xrange(n):\n",
    "        for y in xrange(n):\n",
    "            count=0\n",
    "            for dx in [-1,0,1]:\n",
    "                for dy in [-1,0,1]:\n",
    "                    count += config [(x+dx)%n, (y+dy)%n]\n",
    "            nextconfig[x,y]=1 if count >= 4 else 0 \n",
    "    config, nextconfig= nextconfig, config \n",
    "    \n",
    "\n",
    "            "
   ]
  },
  {
   "cell_type": "code",
   "execution_count": 13,
   "metadata": {},
   "outputs": [
    {
     "name": "stderr",
     "output_type": "stream",
     "text": [
      "Traceback (most recent call last):\n",
      "  File \"/Users/parisanton/anaconda3/lib/python3.7/site-packages/matplotlib/cbook/__init__.py\", line 215, in process\n",
      "    func(*args, **kwargs)\n",
      "  File \"/Users/parisanton/anaconda3/lib/python3.7/site-packages/matplotlib/animation.py\", line 999, in _start\n",
      "    self._init_draw()\n",
      "  File \"/Users/parisanton/anaconda3/lib/python3.7/site-packages/matplotlib/animation.py\", line 1715, in _init_draw\n",
      "    self._draw_frame(next(self.new_frame_seq()))\n",
      "  File \"/Users/parisanton/anaconda3/lib/python3.7/site-packages/matplotlib/animation.py\", line 1737, in _draw_frame\n",
      "    self._drawn_artists = self._func(framedata, *self._args)\n",
      "TypeError: update() takes 0 positional arguments but 1 was given\n"
     ]
    }
   ],
   "source": [
    "\n",
    "pycxsimulator.GUI().start(func=[initialize, observe, update])"
   ]
  },
  {
   "cell_type": "code",
   "execution_count": null,
   "metadata": {},
   "outputs": [],
   "source": [
    "plt.show()"
   ]
  }
 ],
 "metadata": {
  "kernelspec": {
   "display_name": "Python 3",
   "language": "python",
   "name": "python3"
  },
  "language_info": {
   "codemirror_mode": {
    "name": "ipython",
    "version": 3
   },
   "file_extension": ".py",
   "mimetype": "text/x-python",
   "name": "python",
   "nbconvert_exporter": "python",
   "pygments_lexer": "ipython3",
   "version": "3.7.0"
  }
 },
 "nbformat": 4,
 "nbformat_minor": 2
}
