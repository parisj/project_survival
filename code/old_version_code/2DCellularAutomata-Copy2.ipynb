{
 "cells": [
  {
   "cell_type": "markdown",
   "metadata": {},
   "source": [
    "# Survival Game - <font size=4 color='gray'>Alexander Bruun, Anton Paris </font>\n",
    "# <font color='gray'>Code for the simulation </font>\n",
    "Based on Leonel Aguilar's 2D Cellular Automata\n",
    "\n",
    "\n",
    "___"
   ]
  },
  {
   "cell_type": "markdown",
   "metadata": {},
   "source": [
    "### Import Libraries"
   ]
  },
  {
   "cell_type": "code",
   "execution_count": 542,
   "metadata": {},
   "outputs": [],
   "source": [
    "import numpy as np #matrix and vector library\n",
    "import matplotlib.pyplot as plt #plotting library\n",
    "from random import shuffle\n",
    "import random \n",
    "\n"
   ]
  },
  {
   "cell_type": "markdown",
   "metadata": {},
   "source": [
    "### Define plots to be inlined"
   ]
  },
  {
   "cell_type": "code",
   "execution_count": 543,
   "metadata": {},
   "outputs": [],
   "source": [
    "#Jupyter magic that makes plots to be inlined in the notebook\n",
    "%matplotlib inline "
   ]
  },
  {
   "cell_type": "markdown",
   "metadata": {},
   "source": [
    "### Create object Cell"
   ]
  },
  {
   "cell_type": "code",
   "execution_count": 544,
   "metadata": {},
   "outputs": [],
   "source": [
    "#TO DO \n",
    "    #__init__ calls function, based on cell type  for initialicing?"
   ]
  },
  {
   "cell_type": "code",
   "execution_count": 545,
   "metadata": {},
   "outputs": [],
   "source": [
    "##Add attributes here \n",
    "\n",
    "\n",
    "class Cell():\n",
    "    def __init__(self, type_cell, lifespan, nutrition_level ):\n",
    "        self.type_cell = type_cell\n",
    "        self.lifespan = lifespan \n",
    "        self.nutrition_level= nutrition_level\n",
    "        \n",
    "        \n",
    "    def increase_l (self, value):\n",
    "        self.lifespan+= value      \n",
    "        \n",
    "    def death (self):\n",
    "        self.lifespan=0\n",
    "        self.type_cell=0 #forest\n",
    "                 \n",
    "    def eat (self, value):\n",
    "        self.nutrition_level+= value\n",
    "        \n",
    "    def get_type (self):\n",
    "        return self.type_cell\n",
    "    \n",
    "    \n",
    "    \n",
    "        \n",
    "    def set_movement(self, cells, coords_1, coords_2, increase_value_lifespan, increase_value_eat):\n",
    "        \n",
    "        #consuming resosursses \n",
    "        cells[coords_2[1],coords_[2]].increase_l(increase_value_lifespan)\n",
    "        cells[coords_2[1],coords_[2]].eat(increase_value_eat)\n",
    "        ##needs more attributes\n",
    "        \n",
    "        cells[coords_2[1],coords_[2]]=cells[coords_1[0]],[coords_1[1]]\n",
    "        cells[coords_2[1],coords_[2]].death()\n",
    "        \n",
    "        \n",
    "        \n",
    "        \n",
    "        \n",
    "   \n",
    "        \n",
    "        \n",
    "   \n",
    "\n",
    "        \n",
    "\n",
    "        "
   ]
  },
  {
   "cell_type": "code",
   "execution_count": 552,
   "metadata": {},
   "outputs": [],
   "source": [
    "def  get_value_eat(states,coords):\n",
    "    if states[coords[0],coords[1]] >=0:\n",
    "        return 3"
   ]
  },
  {
   "cell_type": "code",
   "execution_count": null,
   "metadata": {},
   "outputs": [],
   "source": []
  },
  {
   "cell_type": "markdown",
   "metadata": {},
   "source": [
    "###  Build 2D List "
   ]
  },
  {
   "cell_type": "code",
   "execution_count": 553,
   "metadata": {},
   "outputs": [],
   "source": [
    "#empty grid\n",
    "#POST: array created with [rows][colums]\n",
    "def initGrid(cols,rows,array):\n",
    "    \n",
    "    for i in range (rows):\n",
    "        array.append([1])\n",
    "        \n",
    "        for j in range (cols):\n",
    "            array[i].append(0)\n",
    "      \n",
    "            \n",
    "              "
   ]
  },
  {
   "cell_type": "markdown",
   "metadata": {},
   "source": [
    "### Fill grid randoly with desired range "
   ]
  },
  {
   "cell_type": "code",
   "execution_count": 554,
   "metadata": {},
   "outputs": [],
   "source": [
    "# TO DO \n",
    "#specific attribute adding mechanism \n",
    "#OVERVIEW attributes "
   ]
  },
  {
   "cell_type": "code",
   "execution_count": 555,
   "metadata": {},
   "outputs": [],
   "source": [
    "#0 forest, 1 wolves\n",
    "#POST: fills Grid with random numbers and the right attributes \n",
    "def fillGrid(rows,cols,array):\n",
    "    \n",
    "    for i in range (rows):\n",
    "        for j in range (cols):\n",
    "                  array[i][j]= Cell(random.randint(0,2),0,100) #atrribute "
   ]
  },
  {
   "cell_type": "markdown",
   "metadata": {},
   "source": [
    "##### forest= 0, wolves = 1, rabbits = 2 \n"
   ]
  },
  {
   "cell_type": "code",
   "execution_count": 556,
   "metadata": {},
   "outputs": [],
   "source": [
    "# TO DO \n",
    "    # RULES SET \n",
    "    #... "
   ]
  },
  {
   "cell_type": "code",
   "execution_count": 557,
   "metadata": {},
   "outputs": [],
   "source": [
    "global r_dim, c_dim, cells #Dimension of the 1D cells space\n",
    "r_dim= 10 \n",
    "c_dim= 10 \n",
    " #creating empty cells\n",
    "cells=[]\n"
   ]
  },
  {
   "cell_type": "code",
   "execution_count": 558,
   "metadata": {},
   "outputs": [],
   "source": [
    "initGrid(r_dim, c_dim, cells)\n",
    "fillGrid(r_dim, c_dim, cells)\n"
   ]
  },
  {
   "cell_type": "code",
   "execution_count": 559,
   "metadata": {
    "scrolled": true
   },
   "outputs": [
    {
     "data": {
      "text/plain": [
       "0"
      ]
     },
     "execution_count": 559,
     "metadata": {},
     "output_type": "execute_result"
    }
   ],
   "source": [
    "cells[1][2].type_cell"
   ]
  },
  {
   "cell_type": "code",
   "execution_count": 560,
   "metadata": {
    "scrolled": true
   },
   "outputs": [],
   "source": [
    "#create a new updated matrix with only the cell types  \n",
    "#Post: returns 2D array[row][columns] with the current states of the cells, \n",
    "def update_grid(r_dim,c_dim,cells):\n",
    "    type_cell_array=np.zeros((r_dim,c_dim))\n",
    "    for i in range(r_dim):\n",
    "        for j in range(c_dim):\n",
    "          type_cell_array[i][j]= cells[i][j].type_cell\n",
    "            \n",
    "    return type_cell_array"
   ]
  },
  {
   "cell_type": "code",
   "execution_count": null,
   "metadata": {},
   "outputs": [],
   "source": []
  },
  {
   "cell_type": "code",
   "execution_count": 561,
   "metadata": {
    "scrolled": true
   },
   "outputs": [],
   "source": [
    "cells_m_type=update_grid(r_dim, c_dim, cells)"
   ]
  },
  {
   "cell_type": "code",
   "execution_count": 562,
   "metadata": {
    "scrolled": true
   },
   "outputs": [
    {
     "data": {
      "text/plain": [
       "array([[1., 1., 0., 0., 1., 1., 2., 2., 0., 1.],\n",
       "       [0., 1., 0., 1., 1., 0., 2., 2., 1., 0.],\n",
       "       [1., 1., 2., 2., 1., 0., 2., 1., 2., 1.],\n",
       "       [2., 2., 1., 0., 0., 0., 1., 0., 2., 2.],\n",
       "       [0., 0., 0., 1., 1., 0., 1., 0., 1., 1.],\n",
       "       [1., 2., 1., 2., 2., 1., 2., 0., 0., 1.],\n",
       "       [0., 0., 2., 2., 0., 0., 0., 0., 2., 1.],\n",
       "       [1., 0., 1., 1., 2., 0., 1., 1., 0., 1.],\n",
       "       [1., 2., 0., 0., 1., 0., 2., 0., 1., 0.],\n",
       "       [1., 1., 1., 0., 1., 1., 0., 1., 0., 2.]])"
      ]
     },
     "execution_count": 562,
     "metadata": {},
     "output_type": "execute_result"
    }
   ],
   "source": [
    "cells_m_type"
   ]
  },
  {
   "cell_type": "code",
   "execution_count": 563,
   "metadata": {
    "scrolled": true
   },
   "outputs": [],
   "source": [
    "def PlotAutomataHistory(cellHistory,ax=None):\n",
    "    \"\"\"\n",
    "    \"\"\"\n",
    "    #cellHistory=cellHistory.transpose()\n",
    "    if ax is None:\n",
    "        fig, ax = plt.subplots(1, 1, figsize=(5, 5)) #Determine the number of subplots in the figure and its size (scaling)\n",
    "    \n",
    "    minVal=0\n",
    "    maxVal=2\n",
    "    \n",
    "    cmap = plt.cm.gray\n",
    "    norm = plt.Normalize(minVal,maxVal)\n",
    "    rgba = cmap(norm(cellHistory))\n",
    "    #Coloring of the group \n",
    "    S = np.argwhere(cellHistory==0)\n",
    "    I = np.argwhere(cellHistory==1)\n",
    "    R = np.argwhere(cellHistory==2)\n",
    "    W = np.argwhere(cellHistory==3)\n",
    "    \n",
    "    red=[1,0,0]\n",
    "    green=[0,1,0]\n",
    "    blue=[0,0,1]\n",
    "    yellow=[1,1,0]\n",
    "    \n",
    "    for position,color in zip([S,I,R,W],[red,green,blue,yellow]):\n",
    "        for pos in position:\n",
    "            rgba[pos[0]][pos[1],:3]=color\n",
    "    \n",
    "    \n",
    "    ax.imshow(rgba,origin='lower', interpolation='none') #Type of plot \n",
    "    #Axis labels\n",
    "    ax.set_xlabel('x')\n",
    "    ax.set_ylabel('y')\n",
    "    \n",
    "    \n",
    "    #Major ticks frequency\n",
    "    mTickNum=1\n",
    "    xNum=1 #int(cellHistory.shape[0]/mTickNum)\n",
    "    yNum=1 #int(cellHistory.shape[1]/mTickNum)+1\n",
    "         \n",
    "    #Major ticks\n",
    "    ax.set_xticks(np.arange(0, cellHistory.shape[0], xNum))\n",
    "    ax.set_yticks(np.arange(0, cellHistory.shape[1], yNum))\n",
    "    \n",
    "    #Major tick labels\n",
    "    ax.set_xticklabels(np.arange(0, cellHistory.shape[0]+1, xNum))\n",
    "    ax.set_yticklabels(np.arange(0, cellHistory.shape[1]+1, yNum))\n",
    "    \n",
    "    # Minor ticks\n",
    "    ax.set_xticks(np.arange(-.5, cellHistory.shape[0], 1), minor=True);\n",
    "    ax.set_yticks(np.arange(-.5, cellHistory.shape[1], 1), minor=True)\n",
    "    \n",
    "\n",
    "    \n",
    "    #Add grid\n",
    "    #Gray line separates cells\n",
    "    ax.grid(which='minor', axis='x', color='gray', linestyle='-', linewidth=2)\n",
    "    #Red line separates generations\n",
    "    ax.grid(which='minor', axis='y', color='gray', linestyle='-', linewidth=2)\n",
    "    #ax.set_axis_off()"
   ]
  },
  {
   "cell_type": "markdown",
   "metadata": {},
   "source": [
    "### Plot initial state"
   ]
  },
  {
   "cell_type": "code",
   "execution_count": 564,
   "metadata": {},
   "outputs": [
    {
     "data": {
      "image/png": "[encoded data removed]",
      "text/plain": [
       "<Figure size 360x360 with 1 Axes>"
      ]
     },
     "metadata": {
      "needs_background": "light"
     },
     "output_type": "display_data"
    }
   ],
   "source": [
    "PlotAutomataHistory(cells_m_type)\n",
    "#cells.shape"
   ]
  },
  {
   "cell_type": "markdown",
   "metadata": {},
   "source": [
    "### Define a function that applies the rule"
   ]
  },
  {
   "cell_type": "code",
   "execution_count": 565,
   "metadata": {},
   "outputs": [],
   "source": [
    "def apply_rule(mystate, neighstate, grid, rules, cells):\n",
    "    \n",
    "    #filterstate\n",
    "    #offspring..\n",
    "    neighcoord=filteringstate(mystate, neighstate, rules)\n",
    "    \n",
    "    if mystate==0:\n",
    "        return 0, update_grid(cells)\n",
    "    \n",
    "    if mystate==1:\n",
    "            number=np.random.randint(0,1000)%len(neighstate)\n",
    "            value_eat=get_value_eat(grid, neighcoords)\n",
    "            return neighcoords[number], value_eat\n",
    "        "
   ]
  },
  {
   "cell_type": "markdown",
   "metadata": {},
   "source": [
    "### Define Neighborhood"
   ]
  },
  {
   "cell_type": "code",
   "execution_count": 566,
   "metadata": {},
   "outputs": [],
   "source": [
    "#Takes an idx out of all_idx (shuffled) \n",
    "    #calculates the coordinates of a cell based on the idx\n",
    "    #calculates it's neighborhood periodic boundaries \n",
    "    #creates neighstate, [state, row coordinate, column coordinates]\n",
    "    #returns mycoords, mystate, neighstate "
   ]
  },
  {
   "cell_type": "code",
   "execution_count": 567,
   "metadata": {},
   "outputs": [],
   "source": [
    "def idxToCoordinates(idx,x_dim):\n",
    "    return [idx%x_dim,idx//x_dim]\n",
    "\n",
    "def getNeighbourhood(idx, x_dim, y_dim):\n",
    "    neighb = []\n",
    "    coords = idxToCoordinates(idx, x_dim)\n",
    "    for j in range(-1, 2, 1):\n",
    "        for i in range(-1, 2, 1):\n",
    "            # Handle boundary conditions\n",
    "            neighb.append([(coords[0] + i)%(x_dim), (coords[1] + j)%(y_dim)])\n",
    "    #print (coords, neighb)\n",
    "    return (coords, neighb)\n",
    "\n",
    "def getNeighbourhoodValues(idx, grid, x_dim, y_dim):\n",
    "    mycoords,neighCoords=getNeighbourhood(idx, x_dim, y_dim)\n",
    "    \n",
    "    mystate=grid[mycoords[0]][mycoords[1]].type_cell\n",
    "    neighstate=[]\n",
    "    \n",
    "    for neighc in neighCoords:\n",
    "      \n",
    "        \n",
    "        #Problem recursion of own coordinates (TO DO) #fid\n",
    "        if (neighc[0] != mycoords[0] or neighc[1] != mycoords[1]):\n",
    "          \n",
    "            neighstate.append([grid[neighc[0]][neighc[1]].type_cell, neighc[0], neighc[1]])\n",
    "        \n",
    "    #print(\"- Coords \",mycoords,\" = \",mystate,\" neigs \",neighstate,\" = \",neighCoords)\n",
    "    print(mycoords,neighstate)\n",
    "    return mycoords,mystate,neighstate\n",
    "\n",
    "                                                                         "
   ]
  },
  {
   "cell_type": "code",
   "execution_count": 568,
   "metadata": {},
   "outputs": [],
   "source": [
    "#filter neighstate only the important states out "
   ]
  },
  {
   "cell_type": "code",
   "execution_count": 569,
   "metadata": {},
   "outputs": [],
   "source": [
    "def filteringstate(mystate, neighstate, rules): #rule [mystate, states allowed to interact]\n",
    "    filter_states=rules[mystate]\n",
    "    filtered_neighstate=[]\n",
    "    value_eat=0\n",
    "    \n",
    "    for possible in filter_states:\n",
    "        for neigh in neighstate:\n",
    "            if possible == neigh[0]:\n",
    "                filtered_neighstate.append([neigh[1],neigh[2]])\n",
    "    return filtered_neighstate\n",
    "            \n",
    "    \n",
    "    \n",
    "    "
   ]
  },
  {
   "cell_type": "markdown",
   "metadata": {},
   "source": [
    "### Define the step Function\n"
   ]
  },
  {
   "cell_type": "code",
   "execution_count": 570,
   "metadata": {},
   "outputs": [],
   "source": [
    "#input: state (2D Matrix)\n",
    "# all_idx is used for the iteration through the grid, (random)\n",
    "\n",
    "#input is the current state (map with only the cell type information )\n"
   ]
  },
  {
   "cell_type": "code",
   "execution_count": 576,
   "metadata": {},
   "outputs": [],
   "source": [
    "def step(state,rules, cells):\n",
    "    \"\"\"Every timestep the state of the new generation of cells is determined by \n",
    "    the previous generation neighborhood\n",
    "    Input: current state of all cells (state)\n",
    "    Output: next state of all cells (new_state) \n",
    "    \"\"\"\n",
    "    \n",
    "    all_idx = np.arange(0, r_dim*c_dim, 1)\n",
    "    \n",
    "    shuffle(all_idx)\n",
    "    \n",
    "    #Iterate through all cells (C) in the automata and extract its neighbourhood\n",
    "    for idx in all_idx:\n",
    "        #print(\"cell \",mycoords)\n",
    "        mycoords,mystate,neighstate = getNeighbourhoodValues(idx,state,x_dim,y_dim)\n",
    "        #print(\"cell \",idx,\" - \",mycoords)\n",
    "\n",
    "        neighcoord, value_eat=apply_rule(mystate,mycoords, neighstate, state, rules, cells)\n",
    "        #def set_movement(self, cells, coords_1, coords_2, increase_value_lifespan, increase_value_eat):\n",
    "        cells[mycoord[0]][mycoord[1]].set_movement(cells,mycoords,neighcoord,1,value_eat)\n",
    "        \n",
    "    return state"
   ]
  },
  {
   "cell_type": "markdown",
   "metadata": {},
   "source": [
    "### Define the simulation"
   ]
  },
  {
   "cell_type": "code",
   "execution_count": 577,
   "metadata": {},
   "outputs": [],
   "source": [
    "#uses step max_step times and \n",
    "#step needs to only output "
   ]
  },
  {
   "cell_type": "code",
   "execution_count": 578,
   "metadata": {},
   "outputs": [],
   "source": [
    "def simulation(X,max_steps):\n",
    "    \"\"\"Traces the whole evolution of an initial state X through max_steps generations\n",
    "    Input: X, initial state\n",
    "    Output: cells_stack.transpose(), matrix stacking the cells state after each timestep \n",
    "    \"\"\"\n",
    "  \n",
    "    rules= [[],[0],[1,0]]\n",
    "    \n",
    "    print(rules)\n",
    "    print(rules[1])\n",
    "    cells_stack=[X]\n",
    "    new_state=X\n",
    "    #            #print(coords[0]+i,\" - \",coords[1]+j)Move one step forward max_step times\n",
    "    for i in range(max_steps):\n",
    "        #Moves one step forward\n",
    "        new_state=step(new_state,rules,X)\n",
    "        #Stores the result\n",
    "        cells_stack.append(new_state)\n",
    "    return cells_stack\n",
    "    "
   ]
  },
  {
   "cell_type": "code",
   "execution_count": null,
   "metadata": {},
   "outputs": [],
   "source": []
  },
  {
   "cell_type": "markdown",
   "metadata": {},
   "source": [
    "# Performing the simulation\n",
    "___"
   ]
  },
  {
   "cell_type": "code",
   "execution_count": 579,
   "metadata": {},
   "outputs": [
    {
     "name": "stdout",
     "output_type": "stream",
     "text": [
      "[[], [0], [1, 0]]\n",
      "[0]\n",
      "[6, 7] [[2, 5, 6], [0, 6, 6], [1, 7, 6], [0, 5, 7], [1, 7, 7], [0, 5, 8], [2, 6, 8], [0, 7, 8]]\n"
     ]
    },
    {
     "ename": "ValueError",
     "evalue": "not enough values to unpack (expected 3, got 2)",
     "output_type": "error",
     "traceback": [
      "\u001b[0;31m---------------------------------------------------------------------------\u001b[0m",
      "\u001b[0;31mValueError\u001b[0m                                Traceback (most recent call last)",
      "\u001b[0;32m<ipython-input-579-e70769c42879>\u001b[0m in \u001b[0;36m<module>\u001b[0;34m()\u001b[0m\n\u001b[1;32m      1\u001b[0m \u001b[0mmax_steps\u001b[0m\u001b[0;34m=\u001b[0m\u001b[0;36m30\u001b[0m \u001b[0;31m#Number of timesteps\u001b[0m\u001b[0;34m\u001b[0m\u001b[0m\n\u001b[0;32m----> 2\u001b[0;31m \u001b[0mresults\u001b[0m\u001b[0;34m=\u001b[0m\u001b[0msimulation\u001b[0m\u001b[0;34m(\u001b[0m\u001b[0mcells\u001b[0m\u001b[0;34m,\u001b[0m\u001b[0mmax_steps\u001b[0m\u001b[0;34m)\u001b[0m \u001b[0;31m#Perform simulation and store its results\u001b[0m\u001b[0;34m\u001b[0m\u001b[0m\n\u001b[0m",
      "\u001b[0;32m<ipython-input-578-610b196b5514>\u001b[0m in \u001b[0;36msimulation\u001b[0;34m(X, max_steps)\u001b[0m\n\u001b[1;32m     14\u001b[0m     \u001b[0;32mfor\u001b[0m \u001b[0mi\u001b[0m \u001b[0;32min\u001b[0m \u001b[0mrange\u001b[0m\u001b[0;34m(\u001b[0m\u001b[0mmax_steps\u001b[0m\u001b[0;34m)\u001b[0m\u001b[0;34m:\u001b[0m\u001b[0;34m\u001b[0m\u001b[0m\n\u001b[1;32m     15\u001b[0m         \u001b[0;31m#Moves one step forward\u001b[0m\u001b[0;34m\u001b[0m\u001b[0;34m\u001b[0m\u001b[0m\n\u001b[0;32m---> 16\u001b[0;31m         \u001b[0mnew_state\u001b[0m\u001b[0;34m=\u001b[0m\u001b[0mstep\u001b[0m\u001b[0;34m(\u001b[0m\u001b[0mnew_state\u001b[0m\u001b[0;34m,\u001b[0m\u001b[0mrules\u001b[0m\u001b[0;34m,\u001b[0m\u001b[0mX\u001b[0m\u001b[0;34m)\u001b[0m\u001b[0;34m\u001b[0m\u001b[0m\n\u001b[0m\u001b[1;32m     17\u001b[0m         \u001b[0;31m#Stores the result\u001b[0m\u001b[0;34m\u001b[0m\u001b[0;34m\u001b[0m\u001b[0m\n\u001b[1;32m     18\u001b[0m         \u001b[0mcells_stack\u001b[0m\u001b[0;34m.\u001b[0m\u001b[0mappend\u001b[0m\u001b[0;34m(\u001b[0m\u001b[0mnew_state\u001b[0m\u001b[0;34m)\u001b[0m\u001b[0;34m\u001b[0m\u001b[0m\n",
      "\u001b[0;32m<ipython-input-576-f64246ba2a96>\u001b[0m in \u001b[0;36mstep\u001b[0;34m(state, rules, cells)\u001b[0m\n\u001b[1;32m     13\u001b[0m     \u001b[0;32mfor\u001b[0m \u001b[0midx\u001b[0m \u001b[0;32min\u001b[0m \u001b[0mall_idx\u001b[0m\u001b[0;34m:\u001b[0m\u001b[0;34m\u001b[0m\u001b[0m\n\u001b[1;32m     14\u001b[0m         \u001b[0;31m#print(\"cell \",mycoords)\u001b[0m\u001b[0;34m\u001b[0m\u001b[0;34m\u001b[0m\u001b[0m\n\u001b[0;32m---> 15\u001b[0;31m         \u001b[0mmycoords\u001b[0m\u001b[0;34m,\u001b[0m\u001b[0mmystate\u001b[0m\u001b[0;34m,\u001b[0m\u001b[0mneighstate\u001b[0m \u001b[0;34m=\u001b[0m \u001b[0mgetNeighbourhoodValues\u001b[0m\u001b[0;34m(\u001b[0m\u001b[0midx\u001b[0m\u001b[0;34m,\u001b[0m\u001b[0mstate\u001b[0m\u001b[0;34m,\u001b[0m\u001b[0mx_dim\u001b[0m\u001b[0;34m,\u001b[0m\u001b[0my_dim\u001b[0m\u001b[0;34m)\u001b[0m\u001b[0;34m\u001b[0m\u001b[0m\n\u001b[0m\u001b[1;32m     16\u001b[0m         \u001b[0;31m#print(\"cell \",idx,\" - \",mycoords)\u001b[0m\u001b[0;34m\u001b[0m\u001b[0;34m\u001b[0m\u001b[0m\n\u001b[1;32m     17\u001b[0m \u001b[0;34m\u001b[0m\u001b[0m\n",
      "\u001b[0;31mValueError\u001b[0m: not enough values to unpack (expected 3, got 2)"
     ]
    }
   ],
   "source": [
    "max_steps=30 #Number of timesteps\n",
    "results=simulation(cells,max_steps) #Perform simulation and store its results"
   ]
  },
  {
   "cell_type": "markdown",
   "metadata": {},
   "source": [
    "## Plot results"
   ]
  },
  {
   "cell_type": "code",
   "execution_count": 580,
   "metadata": {},
   "outputs": [
    {
     "ename": "NameError",
     "evalue": "name 'results' is not defined",
     "output_type": "error",
     "traceback": [
      "\u001b[0;31m---------------------------------------------------------------------------\u001b[0m",
      "\u001b[0;31mNameError\u001b[0m                                 Traceback (most recent call last)",
      "\u001b[0;32m<ipython-input-580-c016ddaf6627>\u001b[0m in \u001b[0;36m<module>\u001b[0;34m()\u001b[0m\n\u001b[0;32m----> 1\u001b[0;31m \u001b[0mPlotAutomataHistory\u001b[0m\u001b[0;34m(\u001b[0m\u001b[0mresults\u001b[0m\u001b[0;34m[\u001b[0m\u001b[0;34m-\u001b[0m\u001b[0;36m1\u001b[0m\u001b[0;34m]\u001b[0m\u001b[0;34m)\u001b[0m\u001b[0;34m\u001b[0m\u001b[0m\n\u001b[0m",
      "\u001b[0;31mNameError\u001b[0m: name 'results' is not defined"
     ]
    }
   ],
   "source": [
    "PlotAutomataHistory(results[-1])"
   ]
  },
  {
   "cell_type": "code",
   "execution_count": 581,
   "metadata": {},
   "outputs": [],
   "source": [
    "### Visualize Results\n",
    "\n",
    "import matplotlib.animation\n",
    "plt.rcParams[\"animation.html\"] = \"jshtml\" #style of the plot \n",
    "from copy import deepcopy #for creating a compunt object and copying existing objects into it \n",
    "import pandas as pd\n",
    "\n"
   ]
  },
  {
   "cell_type": "code",
   "execution_count": 479,
   "metadata": {},
   "outputs": [
    {
     "ename": "NameError",
     "evalue": "name 'results' is not defined",
     "output_type": "error",
     "traceback": [
      "\u001b[0;31m---------------------------------------------------------------------------\u001b[0m",
      "\u001b[0;31mNameError\u001b[0m                                 Traceback (most recent call last)",
      "\u001b[0;32m<ipython-input-479-18d494c8659f>\u001b[0m in \u001b[0;36m<module>\u001b[0;34m()\u001b[0m\n\u001b[1;32m      1\u001b[0m \u001b[0;31m# Build plot\u001b[0m\u001b[0;34m\u001b[0m\u001b[0;34m\u001b[0m\u001b[0m\n\u001b[1;32m      2\u001b[0m \u001b[0mfig\u001b[0m\u001b[0;34m,\u001b[0m \u001b[0max\u001b[0m \u001b[0;34m=\u001b[0m \u001b[0mplt\u001b[0m\u001b[0;34m.\u001b[0m\u001b[0msubplots\u001b[0m\u001b[0;34m(\u001b[0m\u001b[0mfigsize\u001b[0m\u001b[0;34m=\u001b[0m\u001b[0;34m(\u001b[0m\u001b[0;36m6\u001b[0m\u001b[0;34m,\u001b[0m\u001b[0;36m4\u001b[0m\u001b[0;34m)\u001b[0m\u001b[0;34m)\u001b[0m\u001b[0;34m\u001b[0m\u001b[0m\n\u001b[0;32m----> 3\u001b[0;31m \u001b[0mresultsCopy\u001b[0m\u001b[0;34m=\u001b[0m \u001b[0mdeepcopy\u001b[0m\u001b[0;34m(\u001b[0m\u001b[0mresults\u001b[0m\u001b[0;34m)\u001b[0m\u001b[0;34m\u001b[0m\u001b[0m\n\u001b[0m\u001b[1;32m      4\u001b[0m \u001b[0;34m\u001b[0m\u001b[0m\n\u001b[1;32m      5\u001b[0m \u001b[0;32mdef\u001b[0m \u001b[0manimate\u001b[0m\u001b[0;34m(\u001b[0m\u001b[0mj\u001b[0m\u001b[0;34m)\u001b[0m\u001b[0;34m:\u001b[0m\u001b[0;34m\u001b[0m\u001b[0m\n",
      "\u001b[0;31mNameError\u001b[0m: name 'results' is not defined"
     ]
    }
   ],
   "source": [
    "%%capture\n",
    "# Build plot\n",
    "fig, ax = plt.subplots(figsize=(6,4))\n",
    "resultsCopy= deepcopy(results)\n",
    "\n",
    "def animate(j):\n",
    "    ax.clear()\n",
    "    PlotAutomataHistory(results[j],ax=ax)\n",
    "    \n",
    "ani = matplotlib.animation.FuncAnimation(fig, animate, frames=len(results))"
   ]
  },
  {
   "cell_type": "code",
   "execution_count": 480,
   "metadata": {},
   "outputs": [
    {
     "ename": "NameError",
     "evalue": "name 'ani' is not defined",
     "output_type": "error",
     "traceback": [
      "\u001b[0;31m---------------------------------------------------------------------------\u001b[0m",
      "\u001b[0;31mNameError\u001b[0m                                 Traceback (most recent call last)",
      "\u001b[0;32m<ipython-input-480-fd73f3530c6b>\u001b[0m in \u001b[0;36m<module>\u001b[0;34m()\u001b[0m\n\u001b[0;32m----> 1\u001b[0;31m \u001b[0mani\u001b[0m\u001b[0;34m\u001b[0m\u001b[0m\n\u001b[0m",
      "\u001b[0;31mNameError\u001b[0m: name 'ani' is not defined"
     ]
    }
   ],
   "source": [
    "ani"
   ]
  },
  {
   "cell_type": "code",
   "execution_count": 481,
   "metadata": {},
   "outputs": [
    {
     "ename": "NameError",
     "evalue": "name 'results' is not defined",
     "output_type": "error",
     "traceback": [
      "\u001b[0;31m---------------------------------------------------------------------------\u001b[0m",
      "\u001b[0;31mNameError\u001b[0m                                 Traceback (most recent call last)",
      "\u001b[0;32m<ipython-input-481-402ae38cea50>\u001b[0m in \u001b[0;36m<module>\u001b[0;34m()\u001b[0m\n\u001b[0;32m----> 1\u001b[0;31m \u001b[0mstacked\u001b[0m\u001b[0;34m=\u001b[0m\u001b[0;34m[\u001b[0m\u001b[0mresult\u001b[0m\u001b[0;34m.\u001b[0m\u001b[0mflatten\u001b[0m\u001b[0;34m(\u001b[0m\u001b[0;34m)\u001b[0m \u001b[0;32mfor\u001b[0m \u001b[0mresult\u001b[0m \u001b[0;32min\u001b[0m \u001b[0mresults\u001b[0m\u001b[0;34m]\u001b[0m\u001b[0;34m\u001b[0m\u001b[0m\n\u001b[0m",
      "\u001b[0;31mNameError\u001b[0m: name 'results' is not defined"
     ]
    }
   ],
   "source": [
    "stacked=[result.flatten() for result in results]"
   ]
  },
  {
   "cell_type": "code",
   "execution_count": 482,
   "metadata": {},
   "outputs": [
    {
     "ename": "NameError",
     "evalue": "name 'stacked' is not defined",
     "output_type": "error",
     "traceback": [
      "\u001b[0;31m---------------------------------------------------------------------------\u001b[0m",
      "\u001b[0;31mNameError\u001b[0m                                 Traceback (most recent call last)",
      "\u001b[0;32m<ipython-input-482-04d83667abbd>\u001b[0m in \u001b[0;36m<module>\u001b[0;34m()\u001b[0m\n\u001b[0;32m----> 1\u001b[0;31m \u001b[0mdf\u001b[0m \u001b[0;34m=\u001b[0m \u001b[0mpd\u001b[0m\u001b[0;34m.\u001b[0m\u001b[0mDataFrame\u001b[0m\u001b[0;34m(\u001b[0m\u001b[0mstacked\u001b[0m\u001b[0;34m)\u001b[0m\u001b[0;34m\u001b[0m\u001b[0m\n\u001b[0m",
      "\u001b[0;31mNameError\u001b[0m: name 'stacked' is not defined"
     ]
    }
   ],
   "source": [
    "df = pd.DataFrame(stacked)"
   ]
  },
  {
   "cell_type": "code",
   "execution_count": 483,
   "metadata": {},
   "outputs": [
    {
     "ename": "NameError",
     "evalue": "name 'df' is not defined",
     "output_type": "error",
     "traceback": [
      "\u001b[0;31m---------------------------------------------------------------------------\u001b[0m",
      "\u001b[0;31mNameError\u001b[0m                                 Traceback (most recent call last)",
      "\u001b[0;32m<ipython-input-483-5ee4d8aca51f>\u001b[0m in \u001b[0;36m<module>\u001b[0;34m()\u001b[0m\n\u001b[0;32m----> 1\u001b[0;31m \u001b[0mS\u001b[0m \u001b[0;34m=\u001b[0m \u001b[0mdf\u001b[0m\u001b[0;34m[\u001b[0m\u001b[0mdf\u001b[0m\u001b[0;34m==\u001b[0m\u001b[0;36m0\u001b[0m\u001b[0;34m]\u001b[0m\u001b[0;34m.\u001b[0m\u001b[0mcount\u001b[0m\u001b[0;34m(\u001b[0m\u001b[0maxis\u001b[0m\u001b[0;34m=\u001b[0m\u001b[0;34m'columns'\u001b[0m\u001b[0;34m)\u001b[0m\u001b[0;34m\u001b[0m\u001b[0m\n\u001b[0m\u001b[1;32m      2\u001b[0m \u001b[0mI\u001b[0m \u001b[0;34m=\u001b[0m \u001b[0mdf\u001b[0m\u001b[0;34m[\u001b[0m\u001b[0mdf\u001b[0m\u001b[0;34m==\u001b[0m\u001b[0;36m1\u001b[0m\u001b[0;34m]\u001b[0m\u001b[0;34m.\u001b[0m\u001b[0mcount\u001b[0m\u001b[0;34m(\u001b[0m\u001b[0maxis\u001b[0m\u001b[0;34m=\u001b[0m\u001b[0;34m'columns'\u001b[0m\u001b[0;34m)\u001b[0m\u001b[0;34m\u001b[0m\u001b[0m\n\u001b[1;32m      3\u001b[0m \u001b[0mR\u001b[0m \u001b[0;34m=\u001b[0m \u001b[0mdf\u001b[0m\u001b[0;34m[\u001b[0m\u001b[0mdf\u001b[0m\u001b[0;34m==\u001b[0m\u001b[0;36m2\u001b[0m\u001b[0;34m]\u001b[0m\u001b[0;34m.\u001b[0m\u001b[0mcount\u001b[0m\u001b[0;34m(\u001b[0m\u001b[0maxis\u001b[0m\u001b[0;34m=\u001b[0m\u001b[0;34m'columns'\u001b[0m\u001b[0;34m)\u001b[0m\u001b[0;34m\u001b[0m\u001b[0m\n\u001b[1;32m      4\u001b[0m \u001b[0mW\u001b[0m \u001b[0;34m=\u001b[0m \u001b[0mdf\u001b[0m\u001b[0;34m[\u001b[0m\u001b[0mdf\u001b[0m\u001b[0;34m==\u001b[0m\u001b[0;36m3\u001b[0m\u001b[0;34m]\u001b[0m\u001b[0;34m.\u001b[0m\u001b[0mcount\u001b[0m\u001b[0;34m(\u001b[0m\u001b[0maxis\u001b[0m\u001b[0;34m=\u001b[0m\u001b[0;34m'columns'\u001b[0m\u001b[0;34m)\u001b[0m\u001b[0;34m\u001b[0m\u001b[0m\n",
      "\u001b[0;31mNameError\u001b[0m: name 'df' is not defined"
     ]
    }
   ],
   "source": [
    "S = df[df==0].count(axis='columns')\n",
    "I = df[df==1].count(axis='columns')\n",
    "R = df[df==2].count(axis='columns')\n",
    "W = df[df==3].count(axis='columns')"
   ]
  },
  {
   "cell_type": "code",
   "execution_count": 484,
   "metadata": {},
   "outputs": [],
   "source": [
    "x = np.arange(0.0, max_steps+1, 1)"
   ]
  },
  {
   "cell_type": "code",
   "execution_count": 485,
   "metadata": {},
   "outputs": [
    {
     "ename": "NameError",
     "evalue": "name 'S' is not defined",
     "output_type": "error",
     "traceback": [
      "\u001b[0;31m---------------------------------------------------------------------------\u001b[0m",
      "\u001b[0;31mNameError\u001b[0m                                 Traceback (most recent call last)",
      "\u001b[0;32m<ipython-input-485-693d43f1ed0b>\u001b[0m in \u001b[0;36m<module>\u001b[0;34m()\u001b[0m\n\u001b[0;32m----> 1\u001b[0;31m \u001b[0mplt\u001b[0m\u001b[0;34m.\u001b[0m\u001b[0mplot\u001b[0m\u001b[0;34m(\u001b[0m\u001b[0mx\u001b[0m\u001b[0;34m,\u001b[0m\u001b[0mS\u001b[0m\u001b[0;34m,\u001b[0m\u001b[0;34m'red'\u001b[0m\u001b[0;34m,\u001b[0m \u001b[0mlabel\u001b[0m\u001b[0;34m=\u001b[0m\u001b[0;34m'S'\u001b[0m\u001b[0;34m)\u001b[0m\u001b[0;34m\u001b[0m\u001b[0m\n\u001b[0m\u001b[1;32m      2\u001b[0m \u001b[0mplt\u001b[0m\u001b[0;34m.\u001b[0m\u001b[0mplot\u001b[0m\u001b[0;34m(\u001b[0m\u001b[0mx\u001b[0m\u001b[0;34m,\u001b[0m\u001b[0mI\u001b[0m\u001b[0;34m,\u001b[0m\u001b[0;34m'green'\u001b[0m\u001b[0;34m,\u001b[0m \u001b[0mlabel\u001b[0m\u001b[0;34m=\u001b[0m\u001b[0;34m'I'\u001b[0m\u001b[0;34m)\u001b[0m\u001b[0;34m\u001b[0m\u001b[0m\n\u001b[1;32m      3\u001b[0m \u001b[0mplt\u001b[0m\u001b[0;34m.\u001b[0m\u001b[0mplot\u001b[0m\u001b[0;34m(\u001b[0m\u001b[0mx\u001b[0m\u001b[0;34m,\u001b[0m\u001b[0mR\u001b[0m\u001b[0;34m,\u001b[0m\u001b[0;34m'blue'\u001b[0m\u001b[0;34m,\u001b[0m \u001b[0mlabel\u001b[0m\u001b[0;34m=\u001b[0m\u001b[0;34m'R'\u001b[0m\u001b[0;34m)\u001b[0m\u001b[0;34m\u001b[0m\u001b[0m\n\u001b[1;32m      4\u001b[0m \u001b[0mplt\u001b[0m\u001b[0;34m.\u001b[0m\u001b[0mplot\u001b[0m\u001b[0;34m(\u001b[0m\u001b[0mx\u001b[0m\u001b[0;34m,\u001b[0m\u001b[0mW\u001b[0m\u001b[0;34m,\u001b[0m\u001b[0;34m'yellow'\u001b[0m\u001b[0;34m,\u001b[0m\u001b[0mlabel\u001b[0m\u001b[0;34m=\u001b[0m\u001b[0;34m'W'\u001b[0m\u001b[0;34m)\u001b[0m\u001b[0;34m\u001b[0m\u001b[0m\n\u001b[1;32m      5\u001b[0m \u001b[0mplt\u001b[0m\u001b[0;34m.\u001b[0m\u001b[0mxlabel\u001b[0m\u001b[0;34m(\u001b[0m\u001b[0;34m'Timstep'\u001b[0m\u001b[0;34m)\u001b[0m\u001b[0;34m\u001b[0m\u001b[0m\n",
      "\u001b[0;31mNameError\u001b[0m: name 'S' is not defined"
     ]
    }
   ],
   "source": [
    "plt.plot(x,S,'red', label='S')\n",
    "plt.plot(x,I,'green', label='I')\n",
    "plt.plot(x,R,'blue', label='R')\n",
    "plt.plot(x,W,'yellow',label='W')\n",
    "plt.xlabel('Timstep')\n",
    "plt.ylabel('Count')\n",
    "plt.title('Simulation results')\n",
    "plt.show()"
   ]
  },
  {
   "cell_type": "code",
   "execution_count": null,
   "metadata": {},
   "outputs": [],
   "source": []
  },
  {
   "cell_type": "code",
   "execution_count": null,
   "metadata": {},
   "outputs": [],
   "source": []
  },
  {
   "cell_type": "code",
   "execution_count": null,
   "metadata": {},
   "outputs": [],
   "source": []
  },
  {
   "cell_type": "code",
   "execution_count": null,
   "metadata": {},
   "outputs": [],
   "source": []
  }
 ],
 "metadata": {
  "kernelspec": {
   "display_name": "Python 3",
   "language": "python",
   "name": "python3"
  },
  "language_info": {
   "codemirror_mode": {
    "name": "ipython",
    "version": 3
   },
   "file_extension": ".py",
   "mimetype": "text/x-python",
   "name": "python",
   "nbconvert_exporter": "python",
   "pygments_lexer": "ipython3",
   "version": "3.7.0"
  }
 },
 "nbformat": 4,
 "nbformat_minor": 2
}
