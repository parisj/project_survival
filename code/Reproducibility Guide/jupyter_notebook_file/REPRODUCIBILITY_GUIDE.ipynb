{
 "cells": [
  {
   "cell_type": "markdown",
   "metadata": {},
   "source": [
    " # Reproducibility guide (user tests)\n",
    "<font size=4 color='gray'>Alexander Bruun, Anton Paris, [Project Survival on GitHub](https://github.com/parisj/project_survival)</font>"
   ]
  },
  {
   "cell_type": "markdown",
   "metadata": {},
   "source": [
    "***"
   ]
  },
  {
   "cell_type": "markdown",
   "metadata": {},
   "source": [
    "### Tabel of content\n",
    "1. <b>Requirements</b> <br>\n",
    "\n",
    "\n",
    "2.  <b>Overview</b> <br>\n",
    "    2.1 Variables <br>\n",
    "    \n",
    "    \n",
    "3.  <b>Reproduce results</b><br>\n",
    "    3.1 Light Test<br>\n",
    "    3.2 Heavy Test<br>\n",
    "    \n",
    "    \n",
    "4.  <b>Trouble shooting</b>"
   ]
  },
  {
   "cell_type": "markdown",
   "metadata": {},
   "source": [
    "##  1. Requirements\n",
    "***"
   ]
  },
  {
   "cell_type": "markdown",
   "metadata": {},
   "source": [
    "### For the jupyter notebook to run, following packages are needed: \n",
    "\n",
    " <b>jupiter notebook:</b> - [install Jupiter Notebook documentation](http://jupyter.org/install) <br>\n",
    "\n",
    "***\n",
    "#### In the notebook used packages: \n",
    "\n",
    ">`pandas==0.23.4`<br>\n",
    ">\n",
    ">`numpy==1.15.1`<br>\n",
    ">\n",
    ">`matplotlib==3.0.0`<br>\n",
    "\n",
    "\n",
    "\n",
    "\n"
   ]
  },
  {
   "cell_type": "markdown",
   "metadata": {},
   "source": [
    "## 2. Overview\n",
    "***"
   ]
  },
  {
   "cell_type": "markdown",
   "metadata": {},
   "source": [
    "### 2.1 Variables (User Imput)\n",
    ">`r_dim ` Amount of rows<br>\n",
    ">\n",
    ">`c_dim`  Amount of columns<br>\n",
    ">\n",
    ">`offspring_chance_table` Chance for offspring<br>\n",
    ">\n",
    ">`rules` List of priority for each animal (Where does the animal preferes to go) <br>\n",
    ">\n",
    ">`values_offspring` Cell must have at least this value to be able to create offspring <br>\n",
    ">\n",
    ">`eat_values` Value gained by eating an cell <br>\n",
    ">\n",
    ">`death values` List, increases `death_probability`each turn  <br>\n",
    ">\n",
    ">`cost_reproduction` Cost for creating offspring <br>\n",
    ">\n",
    ">`cost_movement` Cost for moving  <br>\n",
    ">\n",
    ">`nutrition_level_start` Start Value for new cells and offspring <br>\n",
    ">\n",
    ">`nutrition_value_each_turn` Nutrition value that the prey gains each turn  <br>\n",
    "***\n",
    "\n",
    " <a id=\"meaning_list\"></a>\n",
    "#### Meaning of the index in Lists  \n",
    "Sets parameters for Cells with the state equal to the index! <br> \n",
    "><b>list_name[ i ]= [0]Forest, [1]=Rabbits, [2]=Wolves, [3]=Deers ,[4]=Bear </b>\n",
    "   "
   ]
  },
  {
   "cell_type": "markdown",
   "metadata": {},
   "source": [
    "## 3. Reproduce Results\n",
    "***"
   ]
  },
  {
   "cell_type": "markdown",
   "metadata": {},
   "source": [
    "### 3.1 Light test  &ensp; <font size=2.5 color='gray'> - (Oscillations 100x100 grid)</font>\n"
   ]
  },
  {
   "cell_type": "markdown",
   "metadata": {},
   "source": [
    "`use these values to create an oscillating environment`\n"
   ]
  },
  {
   "cell_type": "code",
   "execution_count": 4,
   "metadata": {},
   "outputs": [],
   "source": [
    "#Run with heavy test cell commented out \n",
    "\n",
    "#Oscillations 100x100 \n",
    "r_dim= 100\n",
    "c_dim= 100\n",
    "cells=[]\n",
    "max_steps=200\n",
    "\n",
    "offspring_chance_table=[0,100,100,100,100]\n",
    "values_offspring=[0,1,1,1,1]\n",
    "eat_values=[0,1,1,1,1]\n",
    "nutrition_value_each_turn= 4\n",
    "cost_reproduction=1.5\n",
    "cost_movement=1.5\n",
    "nutrition_level_start=5\n",
    "death_values=[0,0.091,0.167,0.05,0.033]\n",
    "rules= [[0],[0],[1,3,0,4],[0],[3,1,0,2]]\n",
    "\n",
    "#Population represented animals \n",
    "population=[0,1,2,3,4]\n",
    "\n",
    "#Represents the probasbility for an animal to be initialized in the Grid\n",
    "probability=[0.7,0.25,0.1,0.2,0.01]"
   ]
  },
  {
   "cell_type": "markdown",
   "metadata": {},
   "source": [
    "#### What should you get?\n",
    "The initialization of the grid is random and results may vary. Run the simulation again <br>\n",
    "\n",
    "You should be looking at a plot like this: \n",
    "\n",
    "![Oscillation 100x100](example_plot_light_use.png \"Oscillation 100x100\")\n",
    "\n",
    "If wanted, uncomment the animation cells (highly advised, but keep in mind the `increased processing time`)"
   ]
  },
  {
   "cell_type": "markdown",
   "metadata": {},
   "source": [
    "### 3.2 Heavy test"
   ]
  },
  {
   "cell_type": "markdown",
   "metadata": {},
   "source": [
    "#### For recreating all the result, the documentation of our report has all the parameter in tables"
   ]
  },
  {
   "cell_type": "markdown",
   "metadata": {},
   "source": [
    "Results for: <br>\n",
    "Case: `Extinction`, `Overload` `Oscillation` <br>\n",
    "in 3 different dimensions\n",
    "`20x20` , `50x50`, `100x100`, <br> \n",
    "\n",
    "then by deleting the light test cell and adjusting the Heavy test cell in the notebook (need to uncomment) all the test can be tried to reproduced!\n",
    "\n",
    "\n",
    "\n",
    "\n"
   ]
  },
  {
   "cell_type": "markdown",
   "metadata": {},
   "source": [
    "## 4. Trouble shooting"
   ]
  },
  {
   "cell_type": "markdown",
   "metadata": {},
   "source": [
    "####  Not getting the wanted result:\n",
    "> 1. The grid is randomly initialized and sometimes result vary, try it again. If problem consist try next step: \n",
    ">\n",
    ">\n",
    "> 2. Restart and re-run the whole notebook. This clears all the variables and outputs\n",
    ">\n",
    ">\n",
    ">3. Check if all packages are installed correctly and the requirements are met\n",
    ">\n",
    ">\n",
    ">4. If it's still not running or not producing the wanted results restart your PC "
   ]
  },
  {
   "cell_type": "code",
   "execution_count": null,
   "metadata": {},
   "outputs": [],
   "source": []
  }
 ],
 "metadata": {
  "kernelspec": {
   "display_name": "Python 3",
   "language": "python",
   "name": "python3"
  },
  "language_info": {
   "codemirror_mode": {
    "name": "ipython",
    "version": 3
   },
   "file_extension": ".py",
   "mimetype": "text/x-python",
   "name": "python",
   "nbconvert_exporter": "python",
   "pygments_lexer": "ipython3",
   "version": "3.7.0"
  }
 },
 "nbformat": 4,
 "nbformat_minor": 2
}
