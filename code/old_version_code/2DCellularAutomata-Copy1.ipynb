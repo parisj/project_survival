{
 "cells": [
  {
   "cell_type": "markdown",
   "metadata": {},
   "source": [
    "# Survival Game - <font size=4 color='gray'>Alexander Bruun, Anton Paris </font>\n",
    "# <font color='gray'>Code for the simulation </font>\n",
    "Based on Leonel Aguilar's 2D Cellular Automata\n",
    "\n",
    "\n",
    "___"
   ]
  },
  {
   "cell_type": "markdown",
   "metadata": {},
   "source": [
    "### Import Libraries"
   ]
  },
  {
   "cell_type": "code",
   "execution_count": 1,
   "metadata": {},
   "outputs": [],
   "source": [
    "import numpy as np #matrix and vector library\n",
    "import matplotlib.pyplot as plt #plotting library\n",
    "from random import shuffle\n",
    "import random \n",
    "\n"
   ]
  },
  {
   "cell_type": "markdown",
   "metadata": {},
   "source": [
    "### Define plots to be inlined"
   ]
  },
  {
   "cell_type": "code",
   "execution_count": 2,
   "metadata": {},
   "outputs": [],
   "source": [
    "#Jupyter magic that makes plots to be inlined in the notebook\n",
    "%matplotlib inline "
   ]
  },
  {
   "cell_type": "markdown",
   "metadata": {},
   "source": [
    "### Create object Cell"
   ]
  },
  {
   "cell_type": "code",
   "execution_count": 3,
   "metadata": {},
   "outputs": [],
   "source": [
    "#TO DO \n",
    "    #__init__ calls function, based on cell type  for initialicing?"
   ]
  },
  {
   "cell_type": "code",
   "execution_count": 4,
   "metadata": {},
   "outputs": [],
   "source": [
    "##Add attributes here \n",
    "\n",
    "\n",
    "class Cell():\n",
    "    def __init__(self, type_cell, lifespan, nutrition_level ):\n",
    "        self.type_cell = type_cell\n",
    "        self.lifespan = lifespan \n",
    "        self.nutrition_level= nutrition_level\n",
    "        \n",
    "        \n",
    "        \n",
    "        \n",
    "        \n",
    "    def increase_l (self, value):\n",
    "        self.lifespan+= value      \n",
    "        \n",
    "    def death (self):\n",
    "        self.lifespan=0\n",
    "        self.type_cell=0 #forest\n",
    "                 \n",
    "    def eat (self, value):\n",
    "        self.nutrition_level+= value\n",
    "        \n",
    "    def get_type (self):\n",
    "        return self.type_cell\n",
    "    \n",
    "    \n",
    "    \n",
    "        \n",
    "    def set_movement(self, cells, coords_1, coords_2, increase_value_lifespan, increase_value_eat):\n",
    "        \n",
    "        #consuming resosursses \n",
    "        cells[coords_2[1],coords_[2]].increase_l(increase_value_lifespan)\n",
    "        cells[coords_2[1],coords_[2]].eat(increase_value_eat)\n",
    "        ##needs more attributes\n",
    "        \n",
    "        cells[coords_2[1],coords_[2]]=cells[coords_1[0]],[coords_1[1]]\n",
    "        \n",
    "        \n",
    "        \n",
    "        \n",
    "        \n",
    "   \n",
    "        \n",
    "        \n",
    "   \n",
    "\n",
    "        \n",
    "\n",
    "        "
   ]
  },
  {
   "cell_type": "markdown",
   "metadata": {},
   "source": [
    "###  Build 2D List "
   ]
  },
  {
   "cell_type": "code",
   "execution_count": 5,
   "metadata": {},
   "outputs": [],
   "source": [
    "#empty grid\n",
    "#POST: array created with [rows][colums]\n",
    "def initGrid(cols,rows,array):\n",
    "    \n",
    "    for i in range (rows):\n",
    "        array.append([1])\n",
    "        \n",
    "        for j in range (cols):\n",
    "            array[i].append(0)\n",
    "      \n",
    "            \n",
    "              "
   ]
  },
  {
   "cell_type": "markdown",
   "metadata": {},
   "source": [
    "### Fill grid randoly with desired range "
   ]
  },
  {
   "cell_type": "code",
   "execution_count": 6,
   "metadata": {},
   "outputs": [],
   "source": [
    "# TO DO \n",
    "#specific attribute adding mechanism \n",
    "#OVERVIEW attributes "
   ]
  },
  {
   "cell_type": "code",
   "execution_count": 7,
   "metadata": {},
   "outputs": [],
   "source": [
    "#0 forest, 1 wolves\n",
    "#POST: fills Grid with random numbers and the right attributes \n",
    "def fillGrid(rows,cols,array):\n",
    "    \n",
    "    for i in range (rows):\n",
    "        for j in range (cols):\n",
    "                  array[i][j]= Cell(random.randint(0,2),0,100) #atrribute "
   ]
  },
  {
   "cell_type": "markdown",
   "metadata": {},
   "source": [
    "##### forest= 0, wolves = 1, rabbits = 2 \n"
   ]
  },
  {
   "cell_type": "code",
   "execution_count": 8,
   "metadata": {},
   "outputs": [],
   "source": [
    "# TO DO \n",
    "    # RULES SET \n",
    "    #... "
   ]
  },
  {
   "cell_type": "code",
   "execution_count": 9,
   "metadata": {
    "scrolled": true
   },
   "outputs": [
    {
     "ename": "IndentationError",
     "evalue": "expected an indented block (<ipython-input-9-60204a9ed758>, line 5)",
     "output_type": "error",
     "traceback": [
      "\u001b[0;36m  File \u001b[0;32m\"<ipython-input-9-60204a9ed758>\"\u001b[0;36m, line \u001b[0;32m5\u001b[0m\n\u001b[0;31m    if type_cell==1: #set rules for wolves\u001b[0m\n\u001b[0m     ^\u001b[0m\n\u001b[0;31mIndentationError\u001b[0m\u001b[0;31m:\u001b[0m expected an indented block\n"
     ]
    }
   ],
   "source": [
    "def get_neighbours(type_cell, neighbourhood):\n",
    "    if type_cell==0: #set ruels for forest\n",
    "\n",
    "        \n",
    "    if type_cell==1: #set rules for wolves\n",
    "#movement\n",
    "#counter reproduction\n",
    "#counter lifespan\n",
    "#counter nutrition level\n",
    "        \n",
    "    if type_cell==2: #set ruels for rabbits\n",
    "#movement\n",
    "#coutner reproduction\n",
    "#counter lifespan\n",
    "#counter nutrition level \n",
    "#counter feast numbers\n",
    "    "
   ]
  },
  {
   "cell_type": "code",
   "execution_count": 10,
   "metadata": {},
   "outputs": [],
   "source": [
    "global x_dim, y_dim #Dimension of the 1D cells space\n",
    "x_dim= 10 \n",
    "y_dim= 10 \n",
    " #creating empty cells\n",
    "cells=[]\n"
   ]
  },
  {
   "cell_type": "code",
   "execution_count": 11,
   "metadata": {},
   "outputs": [],
   "source": [
    "initGrid(x_dim, y_dim, cells)\n",
    "fillGrid(x_dim, y_dim, cells)\n"
   ]
  },
  {
   "cell_type": "code",
   "execution_count": 12,
   "metadata": {
    "scrolled": true
   },
   "outputs": [
    {
     "data": {
      "text/plain": [
       "0"
      ]
     },
     "execution_count": 12,
     "metadata": {},
     "output_type": "execute_result"
    }
   ],
   "source": [
    "cells[1][2].type_cell"
   ]
  },
  {
   "cell_type": "code",
   "execution_count": 13,
   "metadata": {
    "scrolled": true
   },
   "outputs": [],
   "source": [
    "#create a new updated matrix with only the cell types  \n",
    "#Post: returns 2D array[row][columns] with the current states of the cells, \n",
    "def update_grid(row,col,array):\n",
    "    type_cell_array=np.zeros((row,col))\n",
    "    for i in range(row):\n",
    "        for j in range(col):\n",
    "          type_cell_array[i][j]= array[i][j].type_cell\n",
    "            \n",
    "    return type_cell_array"
   ]
  },
  {
   "cell_type": "code",
   "execution_count": null,
   "metadata": {},
   "outputs": [],
   "source": []
  },
  {
   "cell_type": "code",
   "execution_count": 14,
   "metadata": {
    "scrolled": true
   },
   "outputs": [],
   "source": [
    "cells_m_type=update_grid(x_dim,y_dim,cells)"
   ]
  },
  {
   "cell_type": "code",
   "execution_count": 15,
   "metadata": {
    "scrolled": true
   },
   "outputs": [],
   "source": [
    "cells_m_type[1][1]=3"
   ]
  },
  {
   "cell_type": "code",
   "execution_count": 16,
   "metadata": {
    "scrolled": true
   },
   "outputs": [],
   "source": [
    "def PlotAutomataHistory(cellHistory,ax=None):\n",
    "    \"\"\"\n",
    "    \"\"\"\n",
    "    #cellHistory=cellHistory.transpose()\n",
    "    if ax is None:\n",
    "        fig, ax = plt.subplots(1, 1, figsize=(5, 5)) #Determine the number of subplots in the figure and its size (scaling)\n",
    "    \n",
    "    minVal=0\n",
    "    maxVal=2\n",
    "    \n",
    "    cmap = plt.cm.gray\n",
    "    norm = plt.Normalize(minVal,maxVal)\n",
    "    rgba = cmap(norm(cellHistory))\n",
    "    #Coloring of the group \n",
    "    S = np.argwhere(cellHistory==0)\n",
    "    I = np.argwhere(cellHistory==1)\n",
    "    R = np.argwhere(cellHistory==2)\n",
    "    W = np.argwhere(cellHistory==3)\n",
    "    \n",
    "    red=[1,0,0]\n",
    "    green=[0,1,0]\n",
    "    blue=[0,0,1]\n",
    "    yellow=[1,1,0]\n",
    "    \n",
    "    for position,color in zip([S,I,R,W],[red,green,blue,yellow]):\n",
    "        for pos in position:\n",
    "            rgba[pos[0]][pos[1],:3]=color\n",
    "    \n",
    "    \n",
    "    ax.imshow(rgba,origin='lower', interpolation='none') #Type of plot \n",
    "    #Axis labels\n",
    "    ax.set_xlabel('x')\n",
    "    ax.set_ylabel('y')\n",
    "    \n",
    "    \n",
    "    #Major ticks frequency\n",
    "    mTickNum=1\n",
    "    xNum=1 #int(cellHistory.shape[0]/mTickNum)\n",
    "    yNum=1 #int(cellHistory.shape[1]/mTickNum)+1\n",
    "         \n",
    "    #Major ticks\n",
    "    ax.set_xticks(np.arange(0, cellHistory.shape[0], xNum))\n",
    "    ax.set_yticks(np.arange(0, cellHistory.shape[1], yNum))\n",
    "    \n",
    "    #Major tick labels\n",
    "    ax.set_xticklabels(np.arange(0, cellHistory.shape[0]+1, xNum))\n",
    "    ax.set_yticklabels(np.arange(0, cellHistory.shape[1]+1, yNum))\n",
    "    \n",
    "    # Minor ticks\n",
    "    ax.set_xticks(np.arange(-.5, cellHistory.shape[0], 1), minor=True);\n",
    "    ax.set_yticks(np.arange(-.5, cellHistory.shape[1], 1), minor=True)\n",
    "    \n",
    "\n",
    "    \n",
    "    #Add grid\n",
    "    #Gray line separates cells\n",
    "    ax.grid(which='minor', axis='x', color='gray', linestyle='-', linewidth=2)\n",
    "    #Red line separates generations\n",
    "    ax.grid(which='minor', axis='y', color='gray', linestyle='-', linewidth=2)\n",
    "    #ax.set_axis_off()"
   ]
  },
  {
   "cell_type": "markdown",
   "metadata": {},
   "source": [
    "### Plot initial state"
   ]
  },
  {
   "cell_type": "code",
   "execution_count": 17,
   "metadata": {},
   "outputs": [
    {
     "data": {
      "image/png": "[encoded data removed]",
      "text/plain": [
       "<Figure size 360x360 with 1 Axes>"
      ]
     },
     "metadata": {
      "needs_background": "light"
     },
     "output_type": "display_data"
    }
   ],
   "source": [
    "PlotAutomataHistory(cells_m_type)\n",
    "#cells.shape"
   ]
  },
  {
   "cell_type": "markdown",
   "metadata": {},
   "source": [
    "### Define a function that applies the rule"
   ]
  },
  {
   "cell_type": "code",
   "execution_count": null,
   "metadata": {},
   "outputs": [],
   "source": [
    "def apply_rule(mystate,neighbourhood, grid, new grid):#neighstate [state,x coord, y coord]   \n",
    "    #Assumed Kermack-McKendrick SIR model\n",
    "    rval=C\n",
    "    beta=0.5\n",
    "    gamma=0.2\n",
    "    if C !=3:\n",
    "        #For every neighbour it interacts with\n",
    "        for val in neighbourhood:\n",
    "            if val == 3:\n",
    "                sample=np.random.uniform(0,1)\n",
    "                if beta>sample:\n",
    "                    rval=3\n",
    "        if C == 3:\n",
    "            sample=np.random.uniform(0,1)\n",
    "            #print(sample)\n",
    "            if gamma>sample:\n",
    "                #print(self._gamma,\" --- \",sample, \" --- \",self._gamma<sample)\n",
    "                rval=2\n",
    "        if C==2: \n",
    "            rval=2\n",
    "\n",
    "    return rval"
   ]
  },
  {
   "cell_type": "markdown",
   "metadata": {},
   "source": [
    "### Define Neighborhood"
   ]
  },
  {
   "cell_type": "code",
   "execution_count": null,
   "metadata": {},
   "outputs": [],
   "source": [
    "#Takes an idx out of all_idx (shuffled) \n",
    "    #calculates the coordinates of a cell based on the idx\n",
    "    #calculates it's neighborhood periodic boundaries \n",
    "    #creates neighstate, [state, row coordinate, column coordinates]\n",
    "    #returns mycoords, mystate, neighstate "
   ]
  },
  {
   "cell_type": "code",
   "execution_count": null,
   "metadata": {},
   "outputs": [],
   "source": [
    "def idxToCoordinates(idx,x_dim):\n",
    "    return [idx%x_dim,idx//x_dim]\n",
    "\n",
    "def getNeighbourhood(idx, x_dim, y_dim):\n",
    "    neighb = []\n",
    "    coords = idxToCoordinates(idx, x_dim)\n",
    "    for j in range(-1, 2, 1):\n",
    "        for i in range(-1, 2, 1):\n",
    "            # Handle boundary conditions\n",
    "            neighb.append([(coords[0] + i)%(x_dim), (coords[1] + j)%(y_dim)])\n",
    "    #print (coords, neighb)\n",
    "    return (coords, neighb)\n",
    "\n",
    "def getNeighbourhoodValues(idx, grid, x_dim, y_dim, grid_new):\n",
    "    mycoords,neighCoords=getNeighbourhood(idx, x_dim, y_dim)\n",
    "    \n",
    "    mystate=grid[mycoords[0]][mycoords[1]].type_cell\n",
    "    neighstate=[]\n",
    "    \n",
    "    for neighc in neighCoords:\n",
    "      \n",
    "        \n",
    "        #Problem recursion of own coordinates (TO DO)\n",
    "        if neighc[0] is not mycoords[0] or neighc[1] is not mycoords[1]:\n",
    "          \n",
    "            neighstate.append([grid[neighc[0]][neighc[1]].type_cell, neighc[0], neighc[1]])\n",
    "        \n",
    "    #print(\"- Coords \",mycoords,\" = \",mystate,\" neigs \",neighstate,\" = \",neighCoords)\n",
    "    print(neighstate)\n",
    "    return mycoords,mystate,neighstate\n",
    "\n",
    "                                                                         "
   ]
  },
  {
   "cell_type": "code",
   "execution_count": null,
   "metadata": {},
   "outputs": [],
   "source": []
  },
  {
   "cell_type": "markdown",
   "metadata": {},
   "source": [
    "### Define the step Function\n"
   ]
  },
  {
   "cell_type": "code",
   "execution_count": null,
   "metadata": {},
   "outputs": [],
   "source": [
    "#input: state (2D Matrix)\n",
    "# all_idx is used for the iteration through the grid, (random)\n",
    "\n",
    "#input is the current state (map with only the cell type information )\n"
   ]
  },
  {
   "cell_type": "code",
   "execution_count": null,
   "metadata": {},
   "outputs": [],
   "source": [
    "def step(state):\n",
    "    \"\"\"Every timestep the state of the new generation of cells is determined by \n",
    "    the previous generation neighborhood\n",
    "    Input: current state of all cells (state)\n",
    "    Output: next state of all cells (new_state) \n",
    "    \"\"\"\n",
    "    new_state=[]\n",
    "    all_idx = np.arange(0, x_dim*y_dim, 1)\n",
    "    \n",
    "    shuffle(all_idx)\n",
    "    new_state = np.zeros([x_dim,y_dim])\n",
    "    #Iterate through all cells (C) in the automata and extract its neighbourhood\n",
    "    for idx in all_idx:\n",
    "        #print(\"cell \",mycoords)\n",
    "        mycoords,mystate,neighstate = getNeighbourhoodValues(idx,state,x_dim,y_dim,new_state)\n",
    "        #print(\"cell \",idx,\" - \",mycoords)\n",
    "\n",
    "        new_state[mycoords[0]][mycoords[1]] = apply_rule(mystate,neighstate)\n",
    "    return new_state"
   ]
  },
  {
   "cell_type": "markdown",
   "metadata": {},
   "source": [
    "### Define the simulation"
   ]
  },
  {
   "cell_type": "code",
   "execution_count": null,
   "metadata": {},
   "outputs": [],
   "source": [
    "#uses step max_step times and \n",
    "#step needs to only output "
   ]
  },
  {
   "cell_type": "code",
   "execution_count": null,
   "metadata": {},
   "outputs": [],
   "source": [
    "def simulation(X,max_steps):\n",
    "    \"\"\"Traces the whole evolution of an initial state X through max_steps generations\n",
    "    Input: X, initial state\n",
    "    Output: cells_stack.transpose(), matrix stacking the cells state after each timestep \n",
    "    \"\"\"\n",
    "    cells_stack=[X]\n",
    "    new_state=X\n",
    "    #            #print(coords[0]+i,\" - \",coords[1]+j)Move one step forward max_step times\n",
    "    for i in range(max_steps):\n",
    "        #Moves one step forward\n",
    "        new_state=step(new_state)\n",
    "        #Stores the result\n",
    "        cells_stack.append(new_state)\n",
    "    return cells_stack\n",
    "    "
   ]
  },
  {
   "cell_type": "markdown",
   "metadata": {},
   "source": [
    "# Performing the simulation\n",
    "___"
   ]
  },
  {
   "cell_type": "code",
   "execution_count": null,
   "metadata": {},
   "outputs": [],
   "source": [
    "max_steps=30 #Number of timesteps\n",
    "results=simulation(cells,max_steps) #Perform simulation and store its results"
   ]
  },
  {
   "cell_type": "markdown",
   "metadata": {},
   "source": [
    "## Plot results"
   ]
  },
  {
   "cell_type": "code",
   "execution_count": null,
   "metadata": {},
   "outputs": [],
   "source": [
    "PlotAutomataHistory(results[-1])"
   ]
  },
  {
   "cell_type": "code",
   "execution_count": null,
   "metadata": {},
   "outputs": [],
   "source": [
    "### Visualize Results\n",
    "\n",
    "import matplotlib.animation\n",
    "plt.rcParams[\"animation.html\"] = \"jshtml\" #style of the plot \n",
    "from copy import deepcopy #for creating a compunt object and copying existing objects into it \n",
    "import pandas as pd\n",
    "\n"
   ]
  },
  {
   "cell_type": "code",
   "execution_count": null,
   "metadata": {},
   "outputs": [],
   "source": [
    "%%capture\n",
    "# Build plot\n",
    "fig, ax = plt.subplots(figsize=(6,4))\n",
    "resultsCopy= deepcopy(results)\n",
    "\n",
    "def animate(j):\n",
    "    ax.clear()\n",
    "    PlotAutomataHistory(results[j],ax=ax)\n",
    "    \n",
    "ani = matplotlib.animation.FuncAnimation(fig, animate, frames=len(results))"
   ]
  },
  {
   "cell_type": "code",
   "execution_count": null,
   "metadata": {},
   "outputs": [],
   "source": [
    "ani"
   ]
  },
  {
   "cell_type": "code",
   "execution_count": null,
   "metadata": {},
   "outputs": [],
   "source": [
    "stacked=[result.flatten() for result in results]"
   ]
  },
  {
   "cell_type": "code",
   "execution_count": null,
   "metadata": {},
   "outputs": [],
   "source": [
    "df = pd.DataFrame(stacked)"
   ]
  },
  {
   "cell_type": "code",
   "execution_count": null,
   "metadata": {},
   "outputs": [],
   "source": [
    "S = df[df==0].count(axis='columns')\n",
    "I = df[df==1].count(axis='columns')\n",
    "R = df[df==2].count(axis='columns')\n",
    "W = df[df==3].count(axis='columns')"
   ]
  },
  {
   "cell_type": "code",
   "execution_count": null,
   "metadata": {},
   "outputs": [],
   "source": [
    "x = np.arange(0.0, max_steps+1, 1)"
   ]
  },
  {
   "cell_type": "code",
   "execution_count": null,
   "metadata": {},
   "outputs": [],
   "source": [
    "plt.plot(x,S,'red', label='S')\n",
    "plt.plot(x,I,'green', label='I')\n",
    "plt.plot(x,R,'blue', label='R')\n",
    "plt.plot(x,W,'yellow',label='W')\n",
    "plt.xlabel('Timstep')\n",
    "plt.ylabel('Count')\n",
    "plt.title('Simulation results')\n",
    "plt.show()"
   ]
  },
  {
   "cell_type": "code",
   "execution_count": null,
   "metadata": {},
   "outputs": [],
   "source": []
  },
  {
   "cell_type": "code",
   "execution_count": null,
   "metadata": {},
   "outputs": [],
   "source": []
  },
  {
   "cell_type": "code",
   "execution_count": null,
   "metadata": {},
   "outputs": [],
   "source": []
  },
  {
   "cell_type": "code",
   "execution_count": null,
   "metadata": {},
   "outputs": [],
   "source": []
  }
 ],
 "metadata": {
  "kernelspec": {
   "display_name": "Python 3",
   "language": "python",
   "name": "python3"
  },
  "language_info": {
   "codemirror_mode": {
    "name": "ipython",
    "version": 3
   },
   "file_extension": ".py",
   "mimetype": "text/x-python",
   "name": "python",
   "nbconvert_exporter": "python",
   "pygments_lexer": "ipython3",
   "version": "3.7.0"
  }
 },
 "nbformat": 4,
 "nbformat_minor": 2
}
