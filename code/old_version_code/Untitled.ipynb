{
 "cells": [
  {
   "cell_type": "markdown",
   "metadata": {},
   "source": [
    "# Survival Game \n",
    "<font size=4 color='gray'>Alexander Bruun, Anton Paris </font>\n",
    "# <font color='gray'>A Predator Prey Simulation </font>\n",
    "Based on Leonel Aguilar's 2D Cellular Automata Code\n",
    "***\n",
    "\n",
    "\n"
   ]
  },
  {
   "cell_type": "markdown",
   "metadata": {},
   "source": [
    "## Overview    <font size=3 color='gray'> -  Table of content for faster Navigation </font>\n",
    "***"
   ]
  },
  {
   "cell_type": "markdown",
   "metadata": {},
   "source": [
    "-  [Import Libraries](#import)   \n",
    "-  [User Imput](#user) <br>\n",
    "&ensp; [Meaning of the index in Lists](#meaning_list)\n",
    "-  [Class Cell](#cell) <br>\n",
    "&ensp; [Properties of the Class Cell](#properties)\n",
    "-  [section title](#section-title)  \n",
    "-  [section title](#section-title)  \n",
    "-  [section title](#section-title)  "
   ]
  },
  {
   "cell_type": "markdown",
   "metadata": {},
   "source": [
    "<a id=''></a>"
   ]
  },
  {
   "cell_type": "markdown",
   "metadata": {},
   "source": [
    "<a id='import'></a>"
   ]
  },
  {
   "cell_type": "markdown",
   "metadata": {},
   "source": [
    "### Import Libraries\n"
   ]
  },
  {
   "cell_type": "code",
   "execution_count": 1,
   "metadata": {},
   "outputs": [],
   "source": [
    "import numpy as np #matrix and vector library\n",
    "import matplotlib.pyplot as plt #plotting library\n",
    "from random import shuffle\n",
    "import random \n",
    "import matplotlib.animation\n",
    "from copy import deepcopy\n",
    "import pandas as pd"
   ]
  },
  {
   "cell_type": "code",
   "execution_count": 2,
   "metadata": {},
   "outputs": [],
   "source": [
    "%matplotlib inline "
   ]
  },
  {
   "cell_type": "markdown",
   "metadata": {},
   "source": [
    "<a id='user'></a>"
   ]
  },
  {
   "cell_type": "markdown",
   "metadata": {},
   "source": [
    "### User Imput \n"
   ]
  },
  {
   "cell_type": "markdown",
   "metadata": {},
   "source": [
    "##### Use `CTRL + F`  to find wanted variables  \n",
    "***\n",
    "##### Variables that have an great impact on the simulation are noted here \n",
    "Variables: <br>\n",
    "`r_dim ` amount of rows<br>\n",
    "\n",
    "`c_dim`  amount of columns<br>\n",
    "\n",
    "`offspring_chance_table` chance for offspring<br>\n",
    "\n",
    "`rules` List of priority for each animal (Where does the animal want to go) <br>\n",
    "\n",
    "***\n",
    "\n",
    " <a id=\"meaning_list\"></a>\n",
    "#### Meaning of the index in Lists  \n",
    "Sets parameters for Cells with the state equal to the index! <br> \n",
    "<b>list_name[0]=Forest, [1]=Rabbits, [2]=Wolves, [3]=Deers ,[4]=Bear </b>\n",
    "   \n"
   ]
  },
  {
   "cell_type": "code",
   "execution_count": 3,
   "metadata": {},
   "outputs": [],
   "source": [
    "global r_dim, c_dim, cells\n",
    "#\n",
    "r_dim= 100\n",
    "c_dim= 100\n",
    "cells=[]\n",
    "\n"
   ]
  },
  {
   "cell_type": "code",
   "execution_count": 4,
   "metadata": {},
   "outputs": [],
   "source": [
    "#Set wanted parameters\n",
    "\n",
    "#0 means 0% chance, 100 means 100%  probability for offspring.\n",
    "#Predators do have 100% because other rules will be applied to them \n",
    "offspring_chance_table=[0,30,100,20,100] \n",
    "\n",
    "# Contains the information how high the nutrition_level of an animal has to be to reproduce\n",
    "values_offspring=[0,0,20,0,40]\n",
    "\n",
    "#values represent nutrition level boost they get for EATING certain animal\n",
    "#meaning if a bear [4] eats a wolf [2] the bear gets the value in [2]\n",
    "eat_values=[0,7,10,15,30]\n",
    "\n",
    "#Values represent the ageing of an animal, value is added to death_probability each turn \n",
    "death_values=[0,5,10,2,1]\n",
    "\n",
    "#Defines the behavior while looking for possible movement\n",
    "#Bear [4] prefers [rabbit [1], deer[3], Wolf[2], Forest [0]]\n",
    "rules= [[0],[0],[3,1,0],[0],[1,3,2,0]]\n",
    "\n",
    "\n",
    "\n"
   ]
  },
  {
   "cell_type": "markdown",
   "metadata": {},
   "source": [
    "<a id='cell'></a>"
   ]
  },
  {
   "cell_type": "markdown",
   "metadata": {},
   "source": [
    "### Create Class Cell"
   ]
  },
  {
   "cell_type": "markdown",
   "metadata": {},
   "source": [
    "<a id=\"properties\"></a>"
   ]
  },
  {
   "cell_type": "markdown",
   "metadata": {},
   "source": [
    "#### Properties of the class Cell. \n",
    "\n",
    "`type_cell` :   Forest, [1]=Rabbits, [2]=Wolves, [3]=Deers ,[4]=Bear<br>\n",
    "`lifespan` :  how many turns the animial is alife <br> \n",
    "`nutition_level`:  Energy level, increases when animal eats something decreases when it moves <br>\n",
    "`reproduction_cont`: Counts Offspring<br>\n",
    "`death_probability`: Probability that the animal dies in a round, increases steady each turn <br>\n",
    "`turn` True if it already had it's turn in the timestep<br>\n",
    "`offspring_chance` Chance for mating<br>\n",
    "\n"
   ]
  },
  {
   "cell_type": "code",
   "execution_count": 5,
   "metadata": {},
   "outputs": [],
   "source": [
    "class Cell():\n",
    "    def __init__(self, type_cell, nutrition_level):\n",
    "        self.type_cell = type_cell\n",
    "        self.lifespan = 0\n",
    "        self.nutrition_level= nutrition_level\n",
    "        self.reproduction_count=0\n",
    "        self.death_probability=1\n",
    "        self.turn=False\n",
    "        self.offspring_chance=self.offspring_chance_table[type_cell]\n",
    "\n",
    "    #PRE: \n",
    "    #POST:\n",
    "    #USED FOR:    \n",
    "    def get_type (self):\n",
    "        return self.type_cell\n",
    "    \n",
    "    #PRE: Value of the wanted increase of lifespan\n",
    "    #POST: Increases the lifespan of the animal by value\n",
    "    #USED FOR: Eat Mechanism \n",
    "    def increase_l (self, value):\n",
    "        self.lifespan+= value   \n",
    "       # print(self.lifespan, \"self.lifespan\")\n",
    "        \n",
    "#TURN FUNCTIONS \n",
    "\n",
    "    #PRE: -\n",
    "    #POST: turn= true\n",
    "    #USED FOR: Limit the number of turns in a timestep to 1\n",
    "    def set_turn(self):\n",
    "        self.turn=True\n",
    "       # print(self.turn,\"after set turn \")\n",
    "        \n",
    "    #PRE: -\n",
    "    #POST: turn= false\n",
    "    #USED FOR: Start a the round to reset the turn boolean to false: Cell is allowed to apply rules\n",
    "    def round_start(self):\n",
    "       # print(self.turn,\"before round start\")\n",
    "        self.turn=False\n",
    "        \n",
    "     \n",
    " #CHANGE CELLS FUNCTIONS\n",
    "    \n",
    "           \n",
    "        \n",
    "    #PRE: value of the nutrition_level that will be gained (can also be 0 if forest)\n",
    "    #POST: increased nutrition_level\n",
    "    #USED FOR: perform nutrition gain by eating an animal/forest\n",
    "    def eat (self, value):\n",
    "        self.nutrition_level+= value\n",
    "        \n",
    "\n",
    "    #PRE: Coordinates of a second Cell where the prime Cell(currently evaluated ) \n",
    "    #POST: dublicates attributes to the Cell with the Coordinates passed (coords2)\n",
    "    #USED FOR: Part of the movement function, simulate a jump to a new cell (with coords 2)\n",
    "    def copy_attributes(self, coords_2):\n",
    "       # print(\"copying attributes,\", cells[coords_2[0]][coords_2[1]].type_cell,self.type_cell)\n",
    "        cells[coords_2[0]][coords_2[1]].type_cell=self.type_cell\n",
    "        cells[coords_2[0]][coords_2[1]].lifespan = self.lifespan\n",
    "        cells[coords_2[0]][coords_2[1]].nutrition_level = self.nutrition_level\n",
    "        cells[coords_2[0]][coords_2[1]].turn= self.turn \n",
    "        cells[coords_2[0]][coords_2[1]].reproduction_count=self.reproduction_count\n",
    "        cells[coords_2[0]][coords_2[1]].death_probability=self.death_probability\n",
    "        \n",
    "    #PRE:-\n",
    "    #POST: returns lifepsan, nutrition_level, reproduction count \n",
    "    #USED FOR:getting information of the cell   \n",
    "    def get_attributes(self):\n",
    "        return self.lifespan, self.nutrition_level, self.reproduction_count\n",
    "    \n",
    "    \n",
    "    #PRE:-\n",
    "    #POST: increase reproduction counter \n",
    "    #USED FOR: offspirng mechanism \n",
    "    def offspring(self):\n",
    "        self.reproduction_count+=1\n",
    "        \n",
    "    #PRE:-\n",
    "    #POST: Sets a cell to type Forest and resetts attributes of the cell\n",
    "    #USED FOR: simulating death      \n",
    "    def death (self):\n",
    "        self.lifespan=0\n",
    "        #print(cells[coords[0]][coords[1]].type_cell,\" before\")\n",
    "        self.type_cell=0 #forest\n",
    "        self.nutrition_level=0\n",
    "        self.reproduction_count=0\n",
    "        self.death_probability=1\n",
    "        #print(cells[coords[0]][coords[1]].type_cell,\" after\")\n",
    "     \n",
    "    \n",
    "    #PRE:-\n",
    "    #POST: returns bool of random death (age based)\n",
    "    #USED FOR: random death because of age \n",
    "    def death_age(self):\n",
    "        return (random.randint (1,100) < self.death_probability)\n",
    "                 \n",
    "     \n",
    "    #PRE: death_values is a list with 5 values, index of Values must represent the different cell types \n",
    "    #POST: returns the ageing value for the called cell\n",
    "    #USED FOR: Information of the ageing process of each individual animal \n",
    "    def get_value_death_age(self,death_values):\n",
    "        return death_values[self.type_cell]\n",
    "    \n",
    "        \n",
    "    #PRE: friends is an integer representing how many cells with the same cell type are in the neighborhood\n",
    "    #POST: Returns true or false, true= has the right to reproduce, false has not the right to reproduce \n",
    "    #USED FOR: Figuring out, if the Cell has the right to reproduce \n",
    "    def offspring(self,friends,values_offspring):\n",
    "        #Rabbit, \n",
    "        if self.type_cell==1:\n",
    "             return (friends and self.nutrition_level>=values_offspring[self.type_cell] and random.randint(1,100)<self.offspring_chance)\n",
    "        #Deer\n",
    "        elif self.type_cell==3:\n",
    "             return (friends and self.nutrition_level>=values_offspring[self.type_cell] and random.randint(1,100)<self.offspring_chance)\n",
    "        #Wolf, Bear and \n",
    "        else:\n",
    "            return (friends and self.nutrition_level>=values_offspring[self.type_cell])\n",
    "\n",
    "    #PRE: 2D List filled with Object of the class cell(cells), Coordinations of mohercell (after movement)\n",
    "    #POST: Cell becomes a dublicate of the mothercell with reseted stts\n",
    "    #USED FOR:    \n",
    "    def birth(self,coords_2,cells):\n",
    "        self.lifespan=1\n",
    "        self.nutrition_level=5\n",
    "        self.reproduction_count=0\n",
    "        self.death_probability=1\n",
    "        cells[coords_2[0]][coords_2[1]].reproduction_count+=1\n",
    "        cells[coords_2[0]][coords_2[1]].nutrition_level-=10\n",
    "        print(self.type_cell, \"type_cell birth\", self.nutrition_level, \"nutritionlevel birth\")\n",
    "\n",
    "        \n",
    "    #PRE:\n",
    "    #POST:\n",
    "    #USED FOR: \n",
    "    def set_movement(self, cells, coords_1, coords_2, increase_value_lifespan, increase_value_eat, friends):\n",
    "        #print(coords_1,coords_2)\n",
    "        \n",
    "       \n",
    "        #print(\"coords_2\",cells[coords_2[0]][coords_2[1]].type_cell,\" coords_1\",self.type_cell )\n",
    "        \n",
    "        #cells[coords_2[0]][coords_2[1]]=cells[coords_1[0]][coords_1[1]]\n",
    "        #print(\"coords_2\",cells[coords_2[0]][coords_2[1]].type_cell,\" coords_1\",cells[coords_1[0]][coords_1[1]].type_cell )\n",
    "        #print(self.turn, \"does it function\")\n",
    "        if self.turn==False:\n",
    "            \n",
    "            self.set_turn()\n",
    "            if self.type_cell==0:\n",
    "                return \n",
    "            if self.type_cell==1 or self.type_cell==3:\n",
    "                self.nutrition_level+=8\n",
    "            elif self.type_cell!=0 and self.death_age():\n",
    "                self.death()\n",
    "              #  print(\"death by age\")\n",
    "                return \n",
    "            \n",
    "                self.increase_l(increase_value_lifespan)\n",
    "                self.eat(increase_value_eat)\n",
    "                self.death_probability+=self.get_value_death_age()\n",
    "        \n",
    "            if coords_1!=coords_2:\n",
    "                if self.type_cell!=0 and self.type_cell!=3:\n",
    "                    self.nutrition_level-=2\n",
    "                self.copy_attributes(coords_2)\n",
    "                if self.offspring(friends)and self.nutrition_level>0 :\n",
    "                    self.birth(coords_2,cells)\n",
    "                else:\n",
    "                    self.death()\n",
    "               # print(\"death by movement\")\n",
    "            #print(\"coords_2\",cells[coords_2[0]][coords_2[1]].type_cell,\" coords_1\",cells[coords_1[0]][coords_1[1]].type_cell )\n",
    "            \n",
    "            #print(\"from: \", coords_1, \"to: \", coords_2)\n",
    "        return\n",
    "    \n"
   ]
  },
  {
   "cell_type": "code",
   "execution_count": null,
   "metadata": {},
   "outputs": [],
   "source": []
  }
 ],
 "metadata": {
  "kernelspec": {
   "display_name": "Python 3",
   "language": "python",
   "name": "python3"
  },
  "language_info": {
   "codemirror_mode": {
    "name": "ipython",
    "version": 3
   },
   "file_extension": ".py",
   "mimetype": "text/x-python",
   "name": "python",
   "nbconvert_exporter": "python",
   "pygments_lexer": "ipython3",
   "version": "3.7.0"
  }
 },
 "nbformat": 4,
 "nbformat_minor": 2
}
